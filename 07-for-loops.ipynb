{
 "cells": [
  {
   "cell_type": "markdown",
   "metadata": {},
   "source": [
    "# 07 - For Loops\n",
    "> From W3Schools:\n",
    ">\n",
    "> \"A `for` loop is used for iterating over a sequence (that is either a list, a tuple, a dictionary, a set, or a string).\n",
    ">\n",
    "> With the for loop we can execute a set of statements, once for each item in a list, tuple, set etc.\""
   ]
  },
  {
   "cell_type": "markdown",
   "metadata": {},
   "source": [
    "### Video and Notes:\n",
    "> Video: https://www.youtube.com/watch?v=dHANJ4l6fwA\n",
    ">\n",
    "> Notes: https://www.w3schools.com/python/python_for_loops.asp"
   ]
  },
  {
   "cell_type": "markdown",
   "metadata": {},
   "source": [
    "## To Complete Your Notes:\n",
    "1. Watch the video.\n",
    "2. Review the Notes above.\n",
    "3. Copy the `for` loops from W3Schools below\n",
    "4. Create your own `for` loops below"
   ]
  },
  {
   "cell_type": "markdown",
   "metadata": {},
   "source": [
    "### 3. Copy the `for` loops from W3Schools below"
   ]
  },
  {
   "cell_type": "code",
   "execution_count": null,
   "metadata": {},
   "outputs": [],
   "source": [
    "# Loop through a list\n",
    "\n",
    "lst = [1,2,3,4]\n",
    "for x in range(1):\n",
    "    print(lst)"
   ]
  },
  {
   "cell_type": "code",
   "execution_count": null,
   "metadata": {},
   "outputs": [],
   "source": [
    "# Loop through a string\n",
    "string = \"123456789\"\n",
    "for x in range(1):\n",
    "    print(string)"
   ]
  },
  {
   "cell_type": "code",
   "execution_count": null,
   "metadata": {},
   "outputs": [],
   "source": [
    "# Use the break statement\n",
    "string = \"123456789\"\n",
    "while True:\n",
    "    print(string)\n",
    "    if len(string) == 9:\n",
    "        print(1)\n",
    "        break\n",
    "    else:\n",
    "        print(2)\n",
    "print(3)\n",
    "    \n",
    "    \n"
   ]
  },
  {
   "cell_type": "code",
   "execution_count": null,
   "metadata": {},
   "outputs": [],
   "source": [
    "# Use the continue statement\n",
    "E = True\n",
    "for x in range(1):\n",
    "    if E == True:   \n",
    "        print(E)\n",
    "        continue\n",
    "        \n",
    "        \n"
   ]
  },
  {
   "cell_type": "code",
   "execution_count": null,
   "metadata": {},
   "outputs": [],
   "source": [
    "# Use the range function to loop through\n",
    "for x in range(1):\n",
    "    print(1)"
   ]
  },
  {
   "cell_type": "code",
   "execution_count": null,
   "metadata": {},
   "outputs": [],
   "source": [
    "# Use else at the end of a loop\n",
    "b = 1\n",
    "\n",
    "for x in range(10):\n",
    "    if b==2:\n",
    "        print(\"ifcametrue\")\n",
    "        b=1\n",
    "    else:\n",
    "        print(\"elsecametrue\")\n",
    "        b=2\n"
   ]
  },
  {
   "cell_type": "code",
   "execution_count": null,
   "metadata": {},
   "outputs": [],
   "source": [
    "# Loop through two lists using Nested Loops\n",
    "newlst = [4,3,2,1]\n",
    "lst = [1,2,3,4]\n",
    "for x in lst:\n",
    "    print(lst)\n",
    "    for x in newlst:\n",
    "        print(newlst)\n",
    "        break"
   ]
  },
  {
   "cell_type": "code",
   "execution_count": null,
   "metadata": {},
   "outputs": [],
   "source": [
    "# Use the pass statement\n",
    "v=3\n",
    "for x in lst:\n",
    "    if (v == 3):\n",
    "        print(\"d\")\n",
    "        pass\n",
    "    else:\n",
    "        print(\"e\")\n"
   ]
  },
  {
   "cell_type": "markdown",
   "metadata": {},
   "source": [
    "### 4. Create your own `for` loops below.\n",
    "> Please create your own `for` loops.\n",
    ">\n",
    "> Please create at least three different loops.\n",
    ">\n",
    "> Try and use different techniques from this lesson and the lessons before."
   ]
  },
  {
   "cell_type": "code",
   "execution_count": null,
   "metadata": {},
   "outputs": [],
   "source": [
    "# Example Loop\n",
    "eric = \"the best guide in the world\"\n",
    "\n",
    "erics_bool = False\n",
    "\n",
    "for x in eric:\n",
    "    if x == 'b':\n",
    "        erics_bool = True\n",
    "    print(x)\n",
    "    if erics_bool:\n",
    "        print(\"we have found the b!\")\n",
    "        break"
   ]
  },
  {
   "cell_type": "code",
   "execution_count": null,
   "metadata": {},
   "outputs": [],
   "source": [
    "lmao = [\"a\",\"b\",\"c\",\"d\",\"e\"]\n",
    "for x in lmao:\n",
    "    print(x)"
   ]
  },
  {
   "cell_type": "code",
   "execution_count": null,
   "metadata": {},
   "outputs": [],
   "source": [
    "# Second Loop\n",
    "lmao = [\"a\",\"b\",\"c\",\"d\",\"e\"]\n",
    "for x in lmao:\n",
    "    lmao.extend(\"e\")\n",
    "print(lmao)"
   ]
  },
  {
   "cell_type": "code",
   "execution_count": null,
   "metadata": {},
   "outputs": [],
   "source": [
    "# Third Loop\n",
    "ez = [\"10\",\"20\"]\n",
    "for x in ez:\n",
    "    ez.append(ez)\n",
    "print(ez)"
   ]
  },
  {
   "cell_type": "code",
   "execution_count": null,
   "metadata": {},
   "outputs": [],
   "source": [
    "\n",
    "import random; extra = \"Secret blue purple pink and green right over it. Hold on 'cause the oldest hasn't thawed yet\"; blue = \"\" \n",
    "for x in extra: \n",
    "    num = random.randrange(0,91); e = extra[num]; blue += e; extra.replace(e,\"\")  \n",
    "print(blue)\n"
   ]
  }
 ],
 "metadata": {
  "kernelspec": {
   "display_name": "Python 3.9.12 ('base')",
   "language": "python",
   "name": "python3"
  },
  "language_info": {
   "codemirror_mode": {
    "name": "ipython",
    "version": 3
   },
   "file_extension": ".py",
   "mimetype": "text/x-python",
   "name": "python",
   "nbconvert_exporter": "python",
   "pygments_lexer": "ipython3",
   "version": "3.9.12"
  },
  "orig_nbformat": 4,
  "vscode": {
   "interpreter": {
    "hash": "e0942d097a3d85f7f7e6db728cda1faec53ae278c49874135db056ee1e5e1978"
   }
  }
 },
 "nbformat": 4,
 "nbformat_minor": 2
}
